{
 "cells": [
  {
   "cell_type": "markdown",
   "metadata": {},
   "source": [
    "<h2>Car Data - Model Development and Evaluation</h2>"
   ]
  },
  {
   "cell_type": "markdown",
   "metadata": {},
   "source": [
    "<h3>Import</h3>"
   ]
  },
  {
   "cell_type": "markdown",
   "metadata": {},
   "source": [
    "Importing necessary python packages."
   ]
  },
  {
   "cell_type": "code",
   "execution_count": 1,
   "metadata": {},
   "outputs": [],
   "source": [
    "import pandas as pd\n",
    "import numpy as np\n",
    "import matplotlib.pyplot as plt"
   ]
  },
  {
   "cell_type": "markdown",
   "metadata": {},
   "source": [
    "<h3>Dataframe</h3>"
   ]
  },
  {
   "cell_type": "markdown",
   "metadata": {},
   "source": [
    "Loading data from wrangled and analyzed data. Storing in dataframe."
   ]
  },
  {
   "cell_type": "code",
   "execution_count": 2,
   "metadata": {},
   "outputs": [
    {
     "data": {
      "text/html": [
       "<div>\n",
       "<style scoped>\n",
       "    .dataframe tbody tr th:only-of-type {\n",
       "        vertical-align: middle;\n",
       "    }\n",
       "\n",
       "    .dataframe tbody tr th {\n",
       "        vertical-align: top;\n",
       "    }\n",
       "\n",
       "    .dataframe thead th {\n",
       "        text-align: right;\n",
       "    }\n",
       "</style>\n",
       "<table border=\"1\" class=\"dataframe\">\n",
       "  <thead>\n",
       "    <tr style=\"text-align: right;\">\n",
       "      <th></th>\n",
       "      <th>symboling</th>\n",
       "      <th>normalized-losses</th>\n",
       "      <th>make</th>\n",
       "      <th>num-of-doors</th>\n",
       "      <th>body-style</th>\n",
       "      <th>drive-wheels</th>\n",
       "      <th>engine-location</th>\n",
       "      <th>wheel-base</th>\n",
       "      <th>length</th>\n",
       "      <th>width</th>\n",
       "      <th>...</th>\n",
       "      <th>stroke</th>\n",
       "      <th>compression-ratio</th>\n",
       "      <th>horsepower</th>\n",
       "      <th>peak-rpm</th>\n",
       "      <th>city-L/100km</th>\n",
       "      <th>highway-L/100km</th>\n",
       "      <th>price</th>\n",
       "      <th>hrspwr-binned</th>\n",
       "      <th>fueltyp-diesel(0)/gas(1)</th>\n",
       "      <th>aspiration-std(1)/turbo(0)</th>\n",
       "    </tr>\n",
       "  </thead>\n",
       "  <tbody>\n",
       "    <tr>\n",
       "      <th>0</th>\n",
       "      <td>3</td>\n",
       "      <td>122.0</td>\n",
       "      <td>alfa-romero</td>\n",
       "      <td>two</td>\n",
       "      <td>convertible</td>\n",
       "      <td>rwd</td>\n",
       "      <td>front</td>\n",
       "      <td>88.6</td>\n",
       "      <td>-0.44</td>\n",
       "      <td>-0.85</td>\n",
       "      <td>...</td>\n",
       "      <td>2.68</td>\n",
       "      <td>9.0</td>\n",
       "      <td>111.0</td>\n",
       "      <td>5000.0</td>\n",
       "      <td>11.19</td>\n",
       "      <td>8.70</td>\n",
       "      <td>13495.0</td>\n",
       "      <td>Low</td>\n",
       "      <td>0</td>\n",
       "      <td>1</td>\n",
       "    </tr>\n",
       "    <tr>\n",
       "      <th>1</th>\n",
       "      <td>3</td>\n",
       "      <td>122.0</td>\n",
       "      <td>alfa-romero</td>\n",
       "      <td>two</td>\n",
       "      <td>convertible</td>\n",
       "      <td>rwd</td>\n",
       "      <td>front</td>\n",
       "      <td>88.6</td>\n",
       "      <td>-0.44</td>\n",
       "      <td>-0.85</td>\n",
       "      <td>...</td>\n",
       "      <td>2.68</td>\n",
       "      <td>9.0</td>\n",
       "      <td>111.0</td>\n",
       "      <td>5000.0</td>\n",
       "      <td>11.19</td>\n",
       "      <td>8.70</td>\n",
       "      <td>16500.0</td>\n",
       "      <td>Low</td>\n",
       "      <td>0</td>\n",
       "      <td>1</td>\n",
       "    </tr>\n",
       "    <tr>\n",
       "      <th>2</th>\n",
       "      <td>1</td>\n",
       "      <td>122.0</td>\n",
       "      <td>alfa-romero</td>\n",
       "      <td>two</td>\n",
       "      <td>hatchback</td>\n",
       "      <td>rwd</td>\n",
       "      <td>front</td>\n",
       "      <td>94.5</td>\n",
       "      <td>-0.24</td>\n",
       "      <td>-0.19</td>\n",
       "      <td>...</td>\n",
       "      <td>3.47</td>\n",
       "      <td>9.0</td>\n",
       "      <td>154.0</td>\n",
       "      <td>5000.0</td>\n",
       "      <td>12.37</td>\n",
       "      <td>9.04</td>\n",
       "      <td>16500.0</td>\n",
       "      <td>Medium</td>\n",
       "      <td>0</td>\n",
       "      <td>1</td>\n",
       "    </tr>\n",
       "    <tr>\n",
       "      <th>3</th>\n",
       "      <td>2</td>\n",
       "      <td>164.0</td>\n",
       "      <td>audi</td>\n",
       "      <td>four</td>\n",
       "      <td>sedan</td>\n",
       "      <td>fwd</td>\n",
       "      <td>front</td>\n",
       "      <td>99.8</td>\n",
       "      <td>0.19</td>\n",
       "      <td>0.15</td>\n",
       "      <td>...</td>\n",
       "      <td>3.40</td>\n",
       "      <td>10.0</td>\n",
       "      <td>102.0</td>\n",
       "      <td>5500.0</td>\n",
       "      <td>9.79</td>\n",
       "      <td>7.83</td>\n",
       "      <td>13950.0</td>\n",
       "      <td>Low</td>\n",
       "      <td>0</td>\n",
       "      <td>1</td>\n",
       "    </tr>\n",
       "    <tr>\n",
       "      <th>4</th>\n",
       "      <td>2</td>\n",
       "      <td>164.0</td>\n",
       "      <td>audi</td>\n",
       "      <td>four</td>\n",
       "      <td>sedan</td>\n",
       "      <td>4wd</td>\n",
       "      <td>front</td>\n",
       "      <td>99.4</td>\n",
       "      <td>0.19</td>\n",
       "      <td>0.24</td>\n",
       "      <td>...</td>\n",
       "      <td>3.40</td>\n",
       "      <td>8.0</td>\n",
       "      <td>115.0</td>\n",
       "      <td>5500.0</td>\n",
       "      <td>13.06</td>\n",
       "      <td>10.68</td>\n",
       "      <td>17450.0</td>\n",
       "      <td>Low</td>\n",
       "      <td>0</td>\n",
       "      <td>1</td>\n",
       "    </tr>\n",
       "  </tbody>\n",
       "</table>\n",
       "<p>5 rows × 27 columns</p>\n",
       "</div>"
      ],
      "text/plain": [
       "   symboling  normalized-losses         make num-of-doors   body-style  \\\n",
       "0          3              122.0  alfa-romero          two  convertible   \n",
       "1          3              122.0  alfa-romero          two  convertible   \n",
       "2          1              122.0  alfa-romero          two    hatchback   \n",
       "3          2              164.0         audi         four        sedan   \n",
       "4          2              164.0         audi         four        sedan   \n",
       "\n",
       "  drive-wheels engine-location  wheel-base  length  width  ...  stroke  \\\n",
       "0          rwd           front        88.6   -0.44  -0.85  ...    2.68   \n",
       "1          rwd           front        88.6   -0.44  -0.85  ...    2.68   \n",
       "2          rwd           front        94.5   -0.24  -0.19  ...    3.47   \n",
       "3          fwd           front        99.8    0.19   0.15  ...    3.40   \n",
       "4          4wd           front        99.4    0.19   0.24  ...    3.40   \n",
       "\n",
       "   compression-ratio horsepower peak-rpm  city-L/100km highway-L/100km  \\\n",
       "0                9.0      111.0   5000.0         11.19            8.70   \n",
       "1                9.0      111.0   5000.0         11.19            8.70   \n",
       "2                9.0      154.0   5000.0         12.37            9.04   \n",
       "3               10.0      102.0   5500.0          9.79            7.83   \n",
       "4                8.0      115.0   5500.0         13.06           10.68   \n",
       "\n",
       "     price  hrspwr-binned  fueltyp-diesel(0)/gas(1)  \\\n",
       "0  13495.0            Low                         0   \n",
       "1  16500.0            Low                         0   \n",
       "2  16500.0         Medium                         0   \n",
       "3  13950.0            Low                         0   \n",
       "4  17450.0            Low                         0   \n",
       "\n",
       "   aspiration-std(1)/turbo(0)  \n",
       "0                           1  \n",
       "1                           1  \n",
       "2                           1  \n",
       "3                           1  \n",
       "4                           1  \n",
       "\n",
       "[5 rows x 27 columns]"
      ]
     },
     "execution_count": 2,
     "metadata": {},
     "output_type": "execute_result"
    }
   ],
   "source": [
    "path = \"CarPriceData-wrangled.csv\"\n",
    "df = pd.read_csv(path)\n",
    "df.head()"
   ]
  },
  {
   "cell_type": "markdown",
   "metadata": {},
   "source": [
    "<h2>Linear regression (LR) and multiple linear regression (MLR)</h2>"
   ]
  },
  {
   "cell_type": "markdown",
   "metadata": {},
   "source": [
    "Loading the module for LR."
   ]
  },
  {
   "cell_type": "code",
   "execution_count": 3,
   "metadata": {},
   "outputs": [],
   "source": [
    "from sklearn.linear_model import LinearRegression"
   ]
  },
  {
   "cell_type": "markdown",
   "metadata": {},
   "source": [
    "Creating the LR objects."
   ]
  },
  {
   "cell_type": "code",
   "execution_count": 4,
   "metadata": {},
   "outputs": [
    {
     "data": {
      "text/plain": [
       "LinearRegression(copy_X=True, fit_intercept=True, n_jobs=None,\n",
       "         normalize=False)"
      ]
     },
     "execution_count": 4,
     "metadata": {},
     "output_type": "execute_result"
    }
   ],
   "source": [
    "lm_obj_list = []\n",
    "xname_list = [\"length\", \"width\", \"curb-weight\", \"engine-size\",\n",
    "              \"horsepower\", \"wheel-base\", \"bore\", \"city-L/100km\",\n",
    "              \"highway-L/100km\"]  # List of independent variables' name.\n",
    "for i in range(len(xname_list)):\n",
    "    lm_obj_list.append(LinearRegression())\n",
    "lm_obj_list[0] # Checking first lm object."
   ]
  },
  {
   "cell_type": "markdown",
   "metadata": {},
   "source": [
    "Creating <strong>simple linear regression</strong> (SLR) models.\n",
    "$$\n",
    "y = mx+c\n",
    "$$"
   ]
  },
  {
   "cell_type": "code",
   "execution_count": 7,
   "metadata": {},
   "outputs": [
    {
     "name": "stdout",
     "output_type": "stream",
     "text": [
      "c values: -40423.65161531275 , -40423.65161531275\n"
     ]
    }
   ],
   "source": [
    "yname = \"price\"\n",
    "y = df[yname] # Target variable values.\n",
    "x_list = [] # Predictor variables' df list.\n",
    "for xname in xname_list:\n",
    "    x_list.append(df[[xname]]) # Appending predictor variable's df.\n",
    "lm_list = [] # simple LRMs' list.\n",
    "for lm_obj in lm_obj_list:\n",
    "    x = x_list[lm_obj_list.index(lm_obj)]\n",
    "    lm_list.append(lm_obj.fit(x, y)) # Appending SLRM.\n",
    "\n",
    "# Checking above code's validity.\n",
    "lr = LinearRegression()\n",
    "xname = \"bore\"\n",
    "lr.fit(df[[xname]], df[yname]) # one SLR model.\n",
    "# Checking if 'c' is equal for the same model in the list.\n",
    "print(\"c values:\", lr.intercept_, \",\", lm_list[xname_list.index(xname)].intercept_)"
   ]
  },
  {
   "cell_type": "markdown",
   "metadata": {},
   "source": [
    "So, the SLR models are created for all important numerical predictor variables. The model equations (y = mx+c) are:"
   ]
  },
  {
   "cell_type": "code",
   "execution_count": 9,
   "metadata": {},
   "outputs": [
    {
     "name": "stdout",
     "output_type": "stream",
     "text": [
      "Price vs. length : price = 5496.7168758269645 * length + 13211.231380753105\n",
      "Price vs. width : price = 5977.684648025547 * width + 13206.831955987662\n",
      "Price vs. curb-weight : price = 12.818847002528225 * curb-weight + -19553.570636227465\n",
      "Price vs. engine-size : price = 166.86001569141595 * engine-size + -7963.338906281042\n",
      "Price vs. horsepower : price = 172.183121912708 * horsepower + -4597.558297892916\n",
      "Price vs. wheel-base : price = 765.893071531152 * wheel-base + -62460.81986606927\n",
      "Price vs. bore : price = 16101.995603334033 * bore + -40423.65161531275\n",
      "Price vs. city-L/100km : price = 2475.7611361823515 * city-L/100km + -11410.804738518495\n",
      "Price vs. highway-L/100km : price = 3458.2548139116325 * highway-L/100km + -14609.11097161867\n"
     ]
    }
   ],
   "source": [
    "for xname in xname_list:\n",
    "    m = lm_list[xname_list.index(xname)].coef_\n",
    "    c = lm_list[xname_list.index(xname)].intercept_\n",
    "    print(\"Price vs.\", xname, \":\", yname, \"=\", m[0], \"*\", xname, \"+\", c)"
   ]
  },
  {
   "cell_type": "markdown",
   "metadata": {},
   "source": [
    "Creating <strong>multiple linear regression</strong> (MLR) model.\n",
    "$$\n",
    "y = m_1 x_1+m_2 x_2+m_3 x_3+...+c\n",
    "$$"
   ]
  },
  {
   "cell_type": "code",
   "execution_count": 15,
   "metadata": {},
   "outputs": [
    {
     "name": "stdout",
     "output_type": "stream",
     "text": [
      "Model eq: y = m_1*x_1 + m_2*x_2 + m_3*x_3 + ... + c\n",
      "m values: [-1041.33114053  1271.69000728     2.45136159    91.00344814\n",
      "    23.72487836   121.80429424 -1014.30123931  1094.44308923\n",
      "  -834.50526381]\n",
      "c value: -19883.95066903557\n"
     ]
    }
   ],
   "source": [
    "z = df[xname_list] # df of all predictor variables.\n",
    "mlm = LinearRegression()\n",
    "mlm.fit(z, y)\n",
    "print(\"Model eq: y = m_1*x_1 + m_2*x_2 + m_3*x_3 + ... + c\")\n",
    "print(\"m values:\", mlm.coef_)\n",
    "print(\"c value:\", mlm.intercept_)"
   ]
  },
  {
   "cell_type": "markdown",
   "metadata": {},
   "source": [
    "<h3>Model evaluation using visualization</h3>"
   ]
  },
  {
   "cell_type": "code",
   "execution_count": null,
   "metadata": {},
   "outputs": [],
   "source": []
  }
 ],
 "metadata": {
  "kernelspec": {
   "display_name": "Python",
   "language": "python",
   "name": "conda-env-python-py"
  },
  "language_info": {
   "codemirror_mode": {
    "name": "ipython",
    "version": 3
   },
   "file_extension": ".py",
   "mimetype": "text/x-python",
   "name": "python",
   "nbconvert_exporter": "python",
   "pygments_lexer": "ipython3",
   "version": "3.6.11"
  }
 },
 "nbformat": 4,
 "nbformat_minor": 4
}
